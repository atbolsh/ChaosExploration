{
 "cells": [
  {
   "cell_type": "markdown",
   "metadata": {},
   "source": [
    "### Introduction\n",
    "\n",
    "In this notebook, I'll develop mathematical justification and code for estimates of the area contraction rate of the return map of the Lorenz system.\n",
    "\n",
    "We will use the Lorenz equations in their Jordan Normal form, given by equation 2 in Tucker. Here $L$ is an operator acting on the vector $(x_1, x_2, x_3)$.\n",
    "\n",
    "\\begin{equation}\n",
    "\\left(\n",
    "\\begin{matrix}\n",
    "\\dot{x_1} \\\\ \\dot{x_2} \\\\ \\dot{x_3}\n",
    "\\end{matrix}\n",
    "\\right)\n",
    "=\n",
    "L\n",
    "\\left(\n",
    "\\begin{matrix}\n",
    "x_1 \\\\ x_2 \\\\ x_3\n",
    "\\end{matrix}\n",
    "\\right)\n",
    "=\n",
    "\\left(\n",
    "\\begin{matrix}\n",
    "\\lambda_1 x_1 - k_1 (x_1 + x_2) x_3 \\\\\n",
    "\\lambda_2 x_2 + k_1 (x_1 + x_2) x_3 \\\\\n",
    "\\lambda_3 x_3 + (x_1 + x_2) (k_2 x_1 + k_3 x_2)\n",
    "\\end{matrix}\n",
    "\\right)\n",
    "\\end{equation}\n",
    "\n",
    "This is equivalent to the classical parameter values after a linear transformation of coordinates (see Tucker), if we set\n",
    "\n",
    "\\begin{equation}\n",
    "\\left(\n",
    "\\begin{matrix}\n",
    "\\lambda_1 \\\\ \\lambda_2 \\\\ \\lambda_3\n",
    "\\end{matrix}\n",
    "\\right)\n",
    "=\n",
    "\\left(\n",
    "\\begin{matrix}\n",
    "11.8 \\\\ -22.8 \\\\ -2.67\n",
    "\\end{matrix}\n",
    "\\right)\n",
    "\\text{   and   }\n",
    "\\left(\n",
    "\\begin{matrix}\n",
    "k_1 \\\\ k_2 \\\\ k_3\n",
    "\\end{matrix}\n",
    "\\right)\n",
    "=\n",
    "\\left(\n",
    "\\begin{matrix}\n",
    "0.29 \\\\ 2.2 \\\\ -1.3\n",
    "\\end{matrix}\n",
    "\\right)\n",
    "\\end{equation}\n",
    "\n",
    "The code below defines all the variables necessary, as well as the space derivative of those equations, $DL$."
   ]
  },
  {
   "cell_type": "code",
   "execution_count": 1,
   "metadata": {},
   "outputs": [
    {
     "data": {
      "text/plain": [
       "array([ 0.,  0.,  0.])"
      ]
     },
     "execution_count": 1,
     "metadata": {},
     "output_type": "execute_result"
    }
   ],
   "source": [
    "import numpy as np\n",
    "from scipy.optimize import fsolve\n",
    "import matplotlib.pyplot as plt\n",
    "from mpl_toolkits.mplot3d import Axes3D\n",
    "\n",
    "l = np.array([11.8, -22.8, -2.67])\n",
    "k = np.array([0.29, 2.2, -1.3])\n",
    "\n",
    "\n",
    "#x is assumed to be an array with three entries\n",
    "def DL(x):\n",
    "    return np.array([[  l[0] - k[0]*x[2],     0 - k[0]*x[2],     0 - k[0]*(x[0] + x[1])  ],\n",
    "                     [         k[0]*x[2],   l[1]+ k[0]*x[2],         k[0]*(x[0] + x[1])  ],\n",
    "                     [2*k[1]*x[0] + (k[1] + k[2])*x[1], \n",
    "                      2*k[2]*x[1] + (k[1] + k[2])*x[0], \n",
    "                      l[2]\n",
    "                     ]])\n",
    "\n",
    "def L(x):\n",
    "    return np.array([l[0]*x[0] - k[0]*(x[0] + x[1])*x[2],\n",
    "                     l[1]*x[1] + k[0]*(x[0] + x[1])*x[2],\n",
    "                     l[2]*x[2] + (x[0] + x[1])*(k[1]*x[0] + k[2]*x[1])])\n",
    "\n",
    "fsolve(lambda x: 0 - L(x), np.array([0.2, 0.05, 27]))"
   ]
  },
  {
   "cell_type": "markdown",
   "metadata": {},
   "source": [
    "### Numerics and return maps\n",
    "\n",
    "Now, Tucker's code uses the return plane $N$ defined by $x_3 = 27$ (pg 60 in Tucker). We we will also use this convention.\n",
    "\n",
    "Given an intial point $x$, the flow of the Lorenz map will define a trajectory as a function of later time. In other words, there is a map $\\Phi (x, t)$ such that $x$ flows to $\\Phi (x, t)$ at time $t$, and $\\Phi (x, 0) = x$.\n",
    "\n",
    "We can approximate $\\Phi$ by numeric integration, as we will below.\n",
    "\n",
    "\n",
    "What we really care about is the return map $\\Theta: N \\rightarrow N$. Given initial point $x \\in N$, $\\Theta (x)$ gives the point $\\Phi(x, g(x))$, where $g(x)$ is implicitly defined as the return time.\n",
    "\n",
    "To be consistent, we will use not just the return time, but the return time \\emph{from above}; that is, the third component of $\\Phi(x, g(x) - dt)$ is larger than $27$, while the the $\\Phi(x, g(x) + dt)$ is smaller than 27. This will become more important when we restrict our considerations to a small rectangle within $N$.\n",
    "\n",
    "We won't really need the propagator $\\Phi$, but for reference I will write both $\\Phi$ and $\\Theta$ as python functions. Both optionally return the entire trajectory, which will be necessary later.\n",
    "\n",
    "It's worth noting that storing the entire trajectory is not memory-efficient; a better program would have a single routine, and would numerically integrate any relevant variables along the trajectory as it went along. However, this makes the code dense and hard to check, and obfuscates the mathematics."
   ]
  },
  {
   "cell_type": "code",
   "execution_count": 2,
   "metadata": {},
   "outputs": [
    {
     "name": "stdout",
     "output_type": "stream",
     "text": [
      "y = [-0.49811512 -2.09585612]\n",
      "Return time: 0.764690703022\n"
     ]
    },
    {
     "data": {
      "image/png": "[encoded data removed]",
      "text/plain": [
       "<matplotlib.figure.Figure at 0x7fe319c92e90>"
      ]
     },
     "metadata": {},
     "output_type": "display_data"
    }
   ],
   "source": [
    "Nlevel = 27\n",
    "dt = 0.0001\n",
    "\n",
    "#In general, we will use the convention that y is a 2-D variable in N, while x is the original 3D vector.\n",
    "#To go from y to x, we simply add the third coordinate at Nlevel.\n",
    "\n",
    "def nextX(x, step=dt):\n",
    "    \"\"\"x in the next timestep.\n",
    "    For now, this function is a one-liner, but we can hide\n",
    "    different numerical integration conventions here in the future.\"\"\"\n",
    "    return x + dt*L(x)\n",
    "\n",
    "def Phi(x, t, trace=False):\n",
    "    \"\"\"Track x for time t. Optionally return entire trajectory.\"\"\"\n",
    "    if trace:\n",
    "        path = []\n",
    "    tau = 0\n",
    "    while tau < t:\n",
    "        if trace:\n",
    "            path.append(np.copy(x))\n",
    "        tau += dt\n",
    "        x = nextX(x)\n",
    "    if trace:\n",
    "        return x, path\n",
    "    else:\n",
    "        return x\n",
    "\n",
    "def stopping_condition(prevStep, nextStep):\n",
    "    \"\"\"We've entered N from above.\"\"\"\n",
    "    return (prevStep[2] > Nlevel and nextStep[2] < Nlevel)\n",
    "\n",
    "#Assumes y is 2D, in N. Returns only 2 coordinates.\n",
    "def Theta(y, trace=False):\n",
    "    \"\"\"Track y \\in N until it reaches N again.\"\"\"\n",
    "    if len(y) == 2:\n",
    "        x = np.array([y[0], y[1], Nlevel])\n",
    "    else:\n",
    "        x = y\n",
    "    g = 0\n",
    "    if trace:\n",
    "        path = [np.copy(x)]\n",
    "    #This last bit is to prevent the stopping condition from immediately detecting something.\n",
    "    x =nextX(x)\n",
    "    nextStep = nextX(x)\n",
    "    g += dt\n",
    "    while not stopping_condition(x, nextStep):\n",
    "        if trace:\n",
    "            path.append(np.copy(x))\n",
    "        x = nextStep\n",
    "        nextStep = nextX(x)\n",
    "        g += dt\n",
    "    if trace:\n",
    "        path.append(np.copy(x))\n",
    "    mt = (Nlevel-x[2])/(L(x)[2])\n",
    "    g += mt\n",
    "    x += L(x)*mt\n",
    "    if trace:\n",
    "        path.append(x)\n",
    "        return x[:2], g, path\n",
    "    else:\n",
    "        return x[:2], g\n",
    "\n",
    "\n",
    "#Just some demo code\n",
    "    \n",
    "y, t, p = Theta((-0.5, 0.3), True)\n",
    "print \"y = \" + str(y)\n",
    "print \"Return time: \" + str(t)\n",
    "\n",
    "fig = plt.figure()\n",
    "ax = fig.gca(projection='3d')\n",
    "ax.plot([x[0] for x in p], [x[1] for x in p], [x[2] for x in p], 'b-', label=\"Sample Path\")\n",
    "ax.plot([-0.5], [0.5], [Nlevel], 'rx', label=\"Initial Point\")\n",
    "ax.plot([y[0]], [y[1]], [Nlevel], 'k.', label=\"Final Point\")\n",
    "\n",
    "X = np.arange(-5, 5, 0.25)\n",
    "Y = np.arange(-5, 5, 0.25)\n",
    "X, Y = np.meshgrid(X, Y)\n",
    "Z = 0*X + 27\n",
    "ax.plot_surface(X, Y, Z, color='g')\n",
    "\n",
    "ax.legend()\n",
    "plt.show()"
   ]
  },
  {
   "cell_type": "markdown",
   "metadata": {
    "collapsed": true
   },
   "source": [
    "### Calculating the differential\n",
    "\n",
    "If we want to keep track of area contraction, or of expanding / contracting directions, we need $D\\Theta$.\n",
    "\n",
    "There is a small inaccuracy in the following discussion. In principle, $Theta: \\mathbb{R}^2 \\rightarrow \\mathbb{R}^2$. However, we will express its 2x2 Jacobian in terms of 3x3 vectors. Therefore, it is useful to imagine that we extended the domain of $\\Theta$ and $g$ into some positive-measure neighborhood of the plane $N$.\n",
    "\n",
    "Recall $\\Theta(x) = \\Phi(x, g(x))$. From here, \n",
    "\n",
    "\\begin{equation}\n",
    "D \\Theta  = D\\Phi + \\partial_t \\Phi \\otimes \\overrightarrow{\\nabla} g\n",
    "\\end{equation}\n",
    "where $\\otimes$ denotes the outer product, as if $\\partial_t \\Phi$ is a column vector and $\\overrightarrow{\\nabla} g$ is a row vector. Each of these is evaluated at position $x$ and time $g(x)$.\n",
    "\n",
    "This is a wonderful equation, but how do we numerically calculate any of the coefficients involved?\n",
    "\n",
    "To start, notice that \n",
    "\n",
    "\\begin{equation}\n",
    "\\partial_t\\Phi (x, g(x)) = L(x_f)\n",
    "\\end{equation}\n",
    "where we use $x_f = \\Theta(x) = \\Phi(x, g(x))$ to just denote the final point of the trajectory. For convenience, we will drop the $x_f$, and just remember to evaluate $L$ at the final point, while evaluating everything else at the initial $x$.\n",
    "\n",
    "Next, we will handle the $\\overrightarrow{\\nabla} g$. At first, this seems like it might require detailed numerical calculation, but we are saved by constraints on $\\Theta$.\n",
    "\n",
    "Recall, $\\Theta$ is defined as an operator that takes the plane $N$ into itself. Therefore, no horizontal variaton in initial conditions can result in a different vertical position. In other words, \n",
    "$D\\Theta_{31} \\equiv D\\Theta_{32} \\equiv 0$. Another way to put this is that $D\\Theta$ has the form\n",
    "\\begin{equation}\n",
    "\\left(\n",
    "\\begin{matrix}\n",
    "\\star && \\star && - \\\\\n",
    "\\star && \\star && - \\\\\n",
    "0     &&   0   && 1\n",
    "\\end{matrix}\n",
    "\\right)\n",
    "\\end{equation}\n",
    "where $\\star$ denotes the useful terms, $-$ denotes other terms we can choose an arbitrary convention for.\n",
    "\n",
    "The third column is not important for the final result, and only has to do with our local extension of $\\Theta$ into the third dimension. I chose the convention $D\\Theta_{33} \\equiv 1$ because this makes the determinant of the \"2D $D\\Theta$\" and the \"3D $D\\Theta$\" equivalent.\n",
    "\n",
    "This gives us a very easy way to find $\\overrightarrow{\\nabla} g$:\n",
    "\\begin{equation}\n",
    "\\overrightarrow{\\nabla} g = \n",
    "\\left( \\frac{1}{L_3} \\right)\n",
    "\\left(\n",
    "\\begin{matrix}\n",
    "-D\\Phi_{31} && \n",
    "-D\\Phi_{32} &&\n",
    "1-D\\Phi_{33}\n",
    "\\end{matrix}\n",
    "\\right)\n",
    "\\end{equation}\n",
    "Recall that $g$ was defined implicitly in terms of properties of $\\Theta$, so this is a very natural choice.\n",
    "\n",
    "So, let us rewrite the original equation in terms of what we now know:\n",
    "\n",
    "\\begin{equation}\n",
    "D \\Theta  = D\\Phi \n",
    "+ \n",
    "\\left( \\frac{1}{L_3} \\right) \n",
    "L \n",
    "\\otimes \n",
    "\\left(\n",
    "\\begin{matrix}\n",
    "-D\\Phi_{31} && \n",
    "-D\\Phi_{32} &&\n",
    "1-D\\Phi_{33}\n",
    "\\end{matrix}\n",
    "\\right)\n",
    "\\end{equation}\n",
    "\n",
    "We have reduced the problem to computing $L$ and $D\\Phi$. We already have a closed formula for $L$; how do we numerically compute $D\\Phi$?"
   ]
  },
  {
   "cell_type": "markdown",
   "metadata": {
    "collapsed": true
   },
   "source": [
    "### Calculating $D\\Phi $\n",
    "\n",
    "First, notice that $D\\Phi |_{t=0} \\equiv \\mathbb{1}$, where $\\mathbb{1}$ denotes the identity matrix. If we start at point $x + dx$, and flow for $0$ time, we are still at $x + dx$.\n",
    "\n",
    "Next, we might ask, what is $d_t D\\Phi$? Again, assume we start at $x + dx$. After some time $t$, we are at point \n",
    "\\begin{equation}\n",
    "\\Phi\\vert_{x, t} + D\\Phi|_{x, t}dx\n",
    "\\end{equation}\n",
    "\n",
    "After time $dt$, the first-order differences in velocity $DL$ will cause additional, small drift, arriving at the point\n",
    "\\begin{equation}\n",
    "\\Phi(x, t+dt) + \n",
    "\\big(\n",
    "D\\Phi\\vert_{x, t} + dt DL|_{\\Phi(x, t)}\\cdot D\\Phi|_{x, t}\n",
    "\\big)dx\n",
    "\\end{equation}\n",
    "From the definition of $D\\Phi$, this is the same as \n",
    "\\begin{equation}\n",
    "\\Phi|_{x, t+dt} + D\\Phi|_{x, t+dt}dx\n",
    "\\end{equation}\n",
    "which finally gives\n",
    "\\begin{equation}\n",
    "d_t D\\Phi|_{x, t} = DL|_{\\Phi(x, t)}\\cdot D\\Phi|_{x, t}\n",
    "\\end{equation}\n",
    "Using the convention that $L$ is always evaluated at the $final$ point, while $\\Phi$ is an operator on the $initial$ point, we can rewrite this as\n",
    "\\begin{equation}\n",
    "d_t D\\Phi = DL\\cdot D\\Phi\n",
    "\\end{equation}\n",
    "\n",
    "An alternative, integral formulation is\n",
    "\\begin{equation}\n",
    "D\\Phi = \\mathbb{1} + \\int_0^t DL \\cdot D\\Phi ds\n",
    "\\end{equation}\n",
    "with the shorthand $DL = DL(\\Phi(x, s))$ and $D\\Phi = D\\Phi(x, t)$ on the LHS and $D\\Phi(x, s)$ on the RHS.\n",
    "\n",
    "In principle we now have a form which is ready for numerical integration, which is precisely what we will do in the next section.\n",
    "\n",
    "It is worth noting that $D\\Phi$ is the ordered exponential of $DL$. There exist more sophisticated techniques for taking ordered exponentials, such as the Magnus expansion, which unfortunately gets very numerically expensive very fast. It's possible I'll revisit that technique at a later time.\n",
    "\n",
    "However, in the even that $DL$ is nearly constant for a long time $\\tau$ along some trajectory (for instance, if we pass near a fixed point), then $D\\Phi$ acquires a far simpler form: $D\\Phi = e^{\\tau DL}$. This form can immediately be resolved with Sylvester's formula, or, in the case of diagonal $DL$, simply by exponentiating each of the eigenvalues."
   ]
  },
  {
   "cell_type": "code",
   "execution_count": 3,
   "metadata": {},
   "outputs": [
    {
     "name": "stdout",
     "output_type": "stream",
     "text": [
      "[[ 2.23042077 -0.82291509]\n",
      " [ 0.64691471 -0.23868662]]\n"
     ]
    },
    {
     "data": {
      "text/plain": [
       "array([[ 2.23042077, -0.82291509],\n",
       "       [ 0.64691471, -0.23868662]])"
      ]
     },
     "execution_count": 3,
     "metadata": {},
     "output_type": "execute_result"
    }
   ],
   "source": [
    "#Here, we produce functions for computing $D\\Phi$ and $D|Theta$ along trajectories\n",
    "\n",
    "#I left the test routines in and commented them out, to allow easy testing later.\n",
    "\n",
    "def next_DPhi(DPhi, prevX, nextX, step=dt):\n",
    "    \"\"\"Again, we hide the specific form of numerical integration here.\n",
    "    Note that we are using a different convention than before.\"\"\"\n",
    "    return DPhi + 0.5*step*np.matmul((DL(prevX) + DL(nextX)),DPhi)\n",
    "\n",
    "def path_DPhi(path, time):\n",
    "    \"\"\"Takes a numerical integral to evaluate DPhi over some path.\"\"\"\n",
    "    DPhi = np.identity(3)\n",
    "    i = 0\n",
    "    l = len(path) - 1\n",
    "    while i < l:\n",
    "        DPhi = next_DPhi(DPhi, path[i], path[i + 1])\n",
    "#        if i%100 == 0:\n",
    "#            print DPhi\n",
    "        i += 1\n",
    "    #Take care of the unusual tail. \n",
    "    #This is a consequence of how we computed the return map\n",
    "    mt = time - dt*(len(path) - 2) \n",
    "    DPhi = next_DPhi(DPhi, path[-2], path[-1])\n",
    "    return DPhi\n",
    "\n",
    "def path_DTheta(path, time):\n",
    "    DPhi = path_DPhi(path, time)\n",
    "    l = L(path[-1])\n",
    "#    print l\n",
    "    l = l/l[2]\n",
    "    gradG = np.array([0., 0., 1.]) - DPhi[2]\n",
    "#    print DPhi\n",
    "#    print gradG\n",
    "#    print np.outer(l, gradG)\n",
    "    D3 = DPhi + np.outer(l, gradG) #the \"3D\" Theta\n",
    "#    print D3\n",
    "    return D3[:2, :2]\n",
    "\n",
    "def vec_DTheta(y):\n",
    "    y, g, path = Theta(y, True)\n",
    "    return path_DTheta(path, g)\n",
    "\n",
    "\n",
    "#Remember path p, time t, from the previous block?\n",
    "print path_DTheta(p, t)\n",
    "vec_DTheta((-0.5, 0.3))\n",
    "#print DL(np.array([y[0], y[1], Nlevel]))"
   ]
  },
  {
   "cell_type": "markdown",
   "metadata": {},
   "source": [
    "### Simpler methods\n",
    "\n",
    "We must also test simpler techniques to see if they line up. How about just applying the map to a nearby point? And how does that compare to our more sophisticated methods?\n",
    "\n",
    "It turns out that the two agree to the second-third decimal place, which is a good sign. To be entirely honest, I trust the simple method better, but it will be easier to set strict bounds on the more sophisticated results later."
   ]
  },
  {
   "cell_type": "code",
   "execution_count": 4,
   "metadata": {},
   "outputs": [
    {
     "name": "stdout",
     "output_type": "stream",
     "text": [
      "[[2.2273555899748887 -0.8222522026635204]\n",
      " [0.6436298082501679 -0.2377790432062099]]\n",
      "[[ 2.23042077 -0.82291509]\n",
      " [ 0.64691471 -0.23868662]]\n"
     ]
    },
    {
     "data": {
      "text/plain": [
       "array([  1.99174204e+00,  -7.89105335e-06])"
      ]
     },
     "execution_count": 4,
     "metadata": {},
     "output_type": "execute_result"
    }
   ],
   "source": [
    "def simple_DTheta(x, epsilon=1e-4):\n",
    "    dx1 = np.array([epsilon, 0])\n",
    "    dx2 = np.array([0, epsilon])\n",
    "    z, t = Theta(x)\n",
    "    z1, t1 = Theta(x + dx1)\n",
    "    z2, t2 = Theta(x + dx2)\n",
    "    return np.ma.column_stack((z1 - z, z2 - z))/epsilon\n",
    "\n",
    "print simple_DTheta((-0.5, 0.3))\n",
    "DT = vec_DTheta((-0.5, 0.3))\n",
    "print DT\n",
    "np.linalg.eigvals(DT)"
   ]
  },
  {
   "cell_type": "markdown",
   "metadata": {},
   "source": [
    "### Numerical games\n",
    "\n",
    "We are now in a position to test for \"typical\" compression ratios, by computing the determinant of $D\\Theta$, as well as testing for hyperbolicity, by testing the eigenvalues and comparing their sums.\n",
    "\n",
    "What follows is a numerical exercise in using the functions defined above. We will find \"typical\" and \"maximal\" contraction ratios in a region bounded away from the stable manifold of the origin, as well as graph \"hyperbolic\", \"uniformly contracting,\" and \"uniformly expanding\" regions."
   ]
  },
  {
   "cell_type": "code",
   "execution_count": 41,
   "metadata": {
    "collapsed": true
   },
   "outputs": [],
   "source": [
    "#Functions and computation\n",
    "\n",
    "bound = 0.001\n",
    "\n",
    "#Can't be as precise here; too many measurements.\n",
    "dt = 0.001\n",
    "\n",
    "def hyperbolicity(y, DT = None):\n",
    "    \"\"\"2 if expanding, 0 if contracting, 1 if hyperbolic\"\"\"\n",
    "    if type(DT) == type(None):\n",
    "        DT = vec_DTheta(y)\n",
    "    e = np.linalg.eigvals(DT)\n",
    "    s = np.sort(np.fabs(e))\n",
    "    if s[1] > 1 and s[0] > 1:\n",
    "        return 2 \n",
    "    if s[1] > 1 and s[0] < 1:\n",
    "        return 1\n",
    "    #Not worried about measure-zero cases.\n",
    "    else: \n",
    "        return 0 \n",
    "    \n",
    "def area_contraction(y, DT = None):\n",
    "    if type(DT) == type(None):\n",
    "        DT = simple_DTheta(y)\n",
    "    return np.linalg.det(DT)\n",
    "\n",
    "X = np.linspace(bound, 4.2, 30)\n",
    "Y = np.linspace(-4.2, 0-bound, 30)\n",
    "DThetas = np.array([[vec_DTheta(np.array([x, y])) for x in X] for y in Y])\n",
    "Hs = np.array([[hyperbolicity((0, 0), DThetas[i][j]) for i in range(len(X))] for j in range(len(Y))])\n",
    "cs = np.array([[area_contraction((0, 0), DThetas[i][j]) for i in range(len(X))] for j in range(len(Y))])\n",
    "X, Y = np.meshgrid(X, Y)"
   ]
  },
  {
   "cell_type": "code",
   "execution_count": 42,
   "metadata": {},
   "outputs": [
    {
     "name": "stdout",
     "output_type": "stream",
     "text": [
      "Biggest expansion:0.503974613197\n",
      "Biggest reverse expansion:0.0963552604397\n",
      "Biggest contraction:0.0963552604397\n",
      "Typical contraction:0.352226811906\n",
      "On hyperbolicity:\n",
      "1\n",
      "0\n"
     ]
    },
    {
     "data": {
      "image/png": "[encoded data removed]",
      "text/plain": [
       "<matplotlib.figure.Figure at 0x7fe2e6a2cd50>"
      ]
     },
     "metadata": {},
     "output_type": "display_data"
    }
   ],
   "source": [
    "#Now, display it.\n",
    "print 'Biggest expansion:' + str(np.max(cs))\n",
    "print 'Biggest reverse expansion:' + str(np.min(cs))\n",
    "print 'Biggest contraction:' + str(np.min(np.fabs(cs)))\n",
    "print 'Typical contraction:' + str(np.average(cs))\n",
    "\n",
    "print 'On hyperbolicity:'\n",
    "print np.max(Hs)\n",
    "print np.min(Hs)\n",
    "\n",
    "#fig = plt.figure()\n",
    "#ax = fig.gca(projection='3d')\n",
    "plt.imshow(cs[::1, ::-1], extent=(bound, 0.1, -0.1, 0-bound))\n",
    "plt.show()\n",
    "\n",
    "#Switch back to accuracy for future boxes\n",
    "dt = 1e-4"
   ]
  },
  {
   "cell_type": "markdown",
   "metadata": {
    "collapsed": true
   },
   "source": [
    "### Conclusions\n",
    "\n",
    "Numerics are hard.\n",
    "\n",
    "There seem to be multiple lines where strange effects happen; my diagrams are always criss-crossed with such lines.\n",
    "\n",
    "I do not think this method will easily lend itself to good bounds on Hausdorff dimension, but it was a fun exercise."
   ]
  },
  {
   "cell_type": "code",
   "execution_count": 43,
   "metadata": {},
   "outputs": [
    {
     "name": "stdout",
     "output_type": "stream",
     "text": [
      "[ 4.1389691   0.60087768]\n",
      "[[0.8643082178849681 -0.18736235431582315]\n",
      " [0.08024947115270464 -0.016351685165894025]]\n",
      "0.000902833982621\n",
      "[ 4.82736308  2.85766062]\n",
      "0.00019806363785\n"
     ]
    }
   ],
   "source": [
    "dt = 1e-6\n",
    "\"\"\"\n",
    "tests = [0.1, 0.01, 0.001, 0.0001]\n",
    "xs = [np.array([x, 0 - x]) for x in tests]\n",
    "\n",
    "ys = [Theta(x)[0] for x in xs]\n",
    "\n",
    "\n",
    "for y in ys:\n",
    "    print y\n",
    "\n",
    "\"\"\"\n",
    "#It will be really easy to find the where limit of the return map just following the unstable manifold of the origin:\n",
    "\n",
    "y, t = Theta(np.array([-0.000001, 0, 0]))\n",
    "\n",
    "print y\n",
    "dt = 1e-6\n",
    "\n",
    "z, t, path = Theta(y, True)\n",
    "v = simple_DTheta(y)\n",
    "print v\n",
    "print np.linalg.det(v)\n",
    "print z\n",
    "\n",
    "v2 = simple_DTheta(z)\n",
    "print np.linalg.det(v2)"
   ]
  },
  {
   "cell_type": "markdown",
   "metadata": {
    "collapsed": true
   },
   "source": [
    "So, it appears we need to go out to $4.2$ to make sure we capture the important point."
   ]
  },
  {
   "cell_type": "markdown",
   "metadata": {},
   "source": [
    "Note: it appears that the path_DTheta algorithm performs poorly for small $dt$.\n",
    "\n",
    "simple_DTheta gives a very different answer. I guess all the floating point roundings add up.\n",
    "\n",
    "\n",
    "Last thing today: draw a scatterplot of the regions."
   ]
  },
  {
   "cell_type": "code",
   "execution_count": 44,
   "metadata": {},
   "outputs": [
    {
     "name": "stdout",
     "output_type": "stream",
     "text": [
      "(30, 30, 2)\n",
      "[ 4.80561953  2.85562826]\n",
      "[ 4.73584874  2.84989272]\n"
     ]
    },
    {
     "data": {
      "image/png": "[encoded data removed]",
      "text/plain": [
       "<matplotlib.figure.Figure at 0x7fe2ddd62f10>"
      ]
     },
     "metadata": {},
     "output_type": "display_data"
    }
   ],
   "source": [
    "dt = 1e-3\n",
    "\n",
    "q = 0 - z\n",
    "\n",
    "X = np.linspace(-6, 6, 30)\n",
    "Y = np.linspace(-3, 3, 30)\n",
    "\n",
    "Zs = [[Theta((x, u))[0] for x in X] for u in Y]\n",
    "print np.shape(Zs)\n",
    "for row in Zs:\n",
    "    for z in row:\n",
    "        plt.plot([z[0]], [z[1]], 'k.')\n",
    "\n",
    "y = np.array([ 4.1389691,  0.60087768]) #From before\n",
    "q = Theta(y)[0]\n",
    "print q\n",
    "print Theta(q)[0]\n",
    "plt.plot([y[0], -y[0]], [y[1], -y[1]], 'rx', label='True limits from left and right.')\n",
    "#plt.plot([q[0], -q[0]], [q[1], -q[1]], 'b.', label=\"Images of limit points\")\n",
    "plt.legend()\n",
    "plt.show()"
   ]
  },
  {
   "cell_type": "code",
   "execution_count": 45,
   "metadata": {},
   "outputs": [
    {
     "name": "stdout",
     "output_type": "stream",
     "text": [
      "0.0634568846658\n"
     ]
    }
   ],
   "source": [
    "p = np.array([y, 0-y])\n",
    "\n",
    "for row in Zs:\n",
    "    p = np.concatenate((p, row))\n",
    "    \n",
    "dt = 1e-4\n",
    "print max([np.fabs(area_contraction(z)) for z in p])"
   ]
  },
  {
   "cell_type": "code",
   "execution_count": null,
   "metadata": {
    "collapsed": true
   },
   "outputs": [],
   "source": []
  }
 ],
 "metadata": {
  "kernelspec": {
   "display_name": "Python 2",
   "language": "python",
   "name": "python2"
  },
  "language_info": {
   "codemirror_mode": {
    "name": "ipython",
    "version": 2
   },
   "file_extension": ".py",
   "mimetype": "text/x-python",
   "name": "python",
   "nbconvert_exporter": "python",
   "pygments_lexer": "ipython2",
   "version": "2.7.14"
  }
 },
 "nbformat": 4,
 "nbformat_minor": 2
}
